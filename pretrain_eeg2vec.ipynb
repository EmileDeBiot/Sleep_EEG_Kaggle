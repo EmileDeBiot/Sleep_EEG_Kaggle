{
 "cells": [
  {
   "cell_type": "markdown",
   "metadata": {},
   "source": [
    "# Pretraining EEG2VEC on sleep data"
   ]
  },
  {
   "cell_type": "code",
   "execution_count": 1,
   "metadata": {},
   "outputs": [],
   "source": [
    "from eeg2vec.train.train import train\n",
    "from eeg2vec.data_loader import get_dataloader\n",
    "from eeg2vec.models.eeg2vec import EEG2Vec\n",
    "from eeg2vec.contrastive_loss import ContrastiveLoss\n",
    "\n",
    "import numpy as np\n",
    "import torch\n",
    "from sklearn.metrics import f1_score, accuracy_score\n",
    "from sklearn.model_selection import train_test_split"
   ]
  },
  {
   "cell_type": "code",
   "execution_count": 2,
   "metadata": {},
   "outputs": [],
   "source": [
    "from pathlib import Path\n",
    "import numpy as np\n",
    "import seaborn as sns\n",
    "import matplotlib.pyplot as plt\n",
    "from scipy.signal import butter, lfilter\n",
    "import pandas as pd\n",
    "import pickle\n",
    "import mne"
   ]
  },
  {
   "cell_type": "code",
   "execution_count": 3,
   "metadata": {},
   "outputs": [
    {
     "name": "stdout",
     "output_type": "stream",
     "text": [
      "Extracting EDF parameters from c:\\Users\\Emile\\Documents\\Polytechnique\\4A\\ParisSaclay\\Cours\\ML\\Sleep_EEG_Kaggle\\eeg2vec\\data\\sleep-edf-database-1.0.0\\sc4002e0.edf...\n",
      "EDF file detected\n",
      "Setting channel info structure...\n",
      "Creating raw.info structure...\n"
     ]
    }
   ],
   "source": [
    "# Import data\n",
    "data_path = Path('eeg2vec/data/sleep-edf-database-1.0.0/sc4002e0.edf')\n",
    "raw = mne.io.read_raw_edf(data_path)"
   ]
  },
  {
   "cell_type": "code",
   "execution_count": 4,
   "metadata": {},
   "outputs": [
    {
     "data": {
      "text/html": [
       "<details open>\n",
       "    <summary><strong>General</strong></summary>\n",
       "    <table class=\"table table-hover table-striped table-sm table-responsive small\">\n",
       "        <tr>\n",
       "            <th>Measurement date</th>\n",
       "            \n",
       "            <td>April 25, 1989  14:50:00 GMT</td>\n",
       "            \n",
       "        </tr>\n",
       "        <tr>\n",
       "            <th>Experimenter</th>\n",
       "            \n",
       "            <td>Unknown</td>\n",
       "            \n",
       "        </tr>\n",
       "        <tr>\n",
       "            <th>Participant</th>\n",
       "            \n",
       "            \n",
       "            <td>X</td>\n",
       "            \n",
       "            \n",
       "        </tr>\n",
       "    </table>\n",
       "    </details>\n",
       "    <details open>\n",
       "        <summary><strong>Channels</strong></summary>\n",
       "        <table class=\"table table-hover table-striped table-sm table-responsive small\">\n",
       "            <tr>\n",
       "                <th>Digitized points</th>\n",
       "                \n",
       "                <td>Not available</td>\n",
       "                \n",
       "            </tr>\n",
       "            <tr>\n",
       "                <th>Good channels</th>\n",
       "                <td>7 EEG</td>\n",
       "            </tr>\n",
       "            <tr>\n",
       "                <th>Bad channels</th>\n",
       "                <td>None</td>\n",
       "            </tr>\n",
       "            <tr>\n",
       "                <th>EOG channels</th>\n",
       "                <td>Not available</td>\n",
       "            </tr>\n",
       "            <tr>\n",
       "                <th>ECG channels</th>\n",
       "                <td>Not available</td>\n",
       "            </tr>\n",
       "        </table>\n",
       "        </details>\n",
       "        <details open>\n",
       "            <summary><strong>Data</strong></summary>\n",
       "            <table class=\"table table-hover table-striped table-sm table-responsive small\">\n",
       "                \n",
       "                <tr>\n",
       "                    <th>Sampling frequency</th>\n",
       "                    <td>100.00 Hz</td>\n",
       "                </tr>\n",
       "                \n",
       "                \n",
       "                <tr>\n",
       "                    <th>Highpass</th>\n",
       "                    <td>0.00 Hz</td>\n",
       "                </tr>\n",
       "                \n",
       "                \n",
       "                <tr>\n",
       "                    <th>Lowpass</th>\n",
       "                    <td>50.00 Hz</td>\n",
       "                </tr>\n",
       "                \n",
       "                \n",
       "                \n",
       "                \n",
       "            </table>\n",
       "            </details>"
      ],
      "text/plain": [
       "<Info | 8 non-empty values\n",
       " bads: []\n",
       " ch_names: EEG Fpz-Cz, EEG Pz-Oz, EOG horizontal, Resp oro-nasal, EMG ...\n",
       " chs: 7 EEG\n",
       " custom_ref_applied: False\n",
       " highpass: 0.0 Hz\n",
       " lowpass: 50.0 Hz\n",
       " meas_date: 1989-04-25 14:50:00 UTC\n",
       " nchan: 7\n",
       " projs: []\n",
       " sfreq: 100.0 Hz\n",
       " subject_info: 3 items (dict)\n",
       ">"
      ]
     },
     "execution_count": 4,
     "metadata": {},
     "output_type": "execute_result"
    }
   ],
   "source": [
    "raw.info"
   ]
  },
  {
   "cell_type": "code",
   "execution_count": 5,
   "metadata": {},
   "outputs": [
    {
     "data": {
      "text/plain": [
       "['EEG Fpz-Cz',\n",
       " 'EEG Pz-Oz',\n",
       " 'EOG horizontal',\n",
       " 'Resp oro-nasal',\n",
       " 'EMG Submental',\n",
       " 'Temp body',\n",
       " 'Event marker']"
      ]
     },
     "execution_count": 5,
     "metadata": {},
     "output_type": "execute_result"
    }
   ],
   "source": [
    "raw.ch_names"
   ]
  },
  {
   "cell_type": "code",
   "execution_count": 6,
   "metadata": {},
   "outputs": [
    {
     "name": "stdout",
     "output_type": "stream",
     "text": [
      "NOTE: pick_channels() is a legacy function. New code should use inst.pick(...).\n",
      "NOTE: pick_channels() is a legacy function. New code should use inst.pick(...).\n"
     ]
    }
   ],
   "source": [
    "ts_fpz = raw.copy().pick_channels(['EEG Fpz-Cz']).get_data()[0]\n",
    "ts_pz = raw.copy().pick_channels(['EEG Pz-Oz']).get_data()[0]"
   ]
  },
  {
   "cell_type": "code",
   "execution_count": 7,
   "metadata": {},
   "outputs": [],
   "source": [
    "# duplicate channels to make 5 channels\n",
    "ts_fpz = np.tile(ts_fpz, (3, 1))\n",
    "ts_pz = np.tile(ts_pz, (2, 1))"
   ]
  },
  {
   "cell_type": "code",
   "execution_count": 8,
   "metadata": {},
   "outputs": [],
   "source": [
    "ts_all = np.concatenate([ts_fpz, ts_pz], axis=0)\n",
    "# ts = ts_all[:, :ts_all.shape[1]//2] # take first half of the signal\n",
    "ts = ts_all[:,ts_all.shape[1]//2:] # take second half of the signal"
   ]
  },
  {
   "cell_type": "code",
   "execution_count": 9,
   "metadata": {},
   "outputs": [
    {
     "data": {
      "text/plain": [
       "(5, 4245000)"
      ]
     },
     "execution_count": 9,
     "metadata": {},
     "output_type": "execute_result"
    }
   ],
   "source": [
    "ts.shape # Sampling frequency is 100 Hz"
   ]
  },
  {
   "cell_type": "code",
   "execution_count": 10,
   "metadata": {},
   "outputs": [],
   "source": [
    "def reshape_array_into_windows(x, sample_rate, window_duration_in_seconds):\n",
    "    \"\"\"\n",
    "    Reshape the data into an array of shape (C, T, window) where 'window' contains\n",
    "    the points corresponding to 'window_duration' seconds of data.\n",
    "\n",
    "    Parameters:\n",
    "    x (numpy array): The input data array.\n",
    "    sample_rate (int): The number of samples per second.\n",
    "    window_duration_in_seconds (float): The duration of each window in seconds.\n",
    "\n",
    "    Returns:\n",
    "    reshaped_x (numpy array): The reshaped array with shape (C, T, window).\n",
    "    \"\"\"\n",
    "    # Calculate the number of samples in one window\n",
    "    window_size = int(window_duration_in_seconds * sample_rate)\n",
    "    \n",
    "    # Ensure the total length of x is a multiple of window_size\n",
    "    total_samples = x.shape[-1]\n",
    "    if total_samples % window_size != 0:\n",
    "        # Truncate or pad x to make it divisible by window_size\n",
    "        x = x[..., :total_samples - (total_samples % window_size)]\n",
    "    # Reshape x into (C, T, window)\n",
    "    reshaped_x = x.reshape(x.shape[0], -1, window_size)\n",
    "\n",
    "    return reshaped_x"
   ]
  },
  {
   "cell_type": "code",
   "execution_count": 11,
   "metadata": {},
   "outputs": [],
   "source": [
    "# We first load and reshape all the data\n",
    "# We need to have\n",
    "# data of Shape: [num_samples, num_channels (5), sequence_length]\n",
    "\n",
    "\n",
    "reshaped_data = reshape_array_into_windows(ts, 100, 2)\n",
    "reshaped_data = reshaped_data.transpose(1, 0, 2)\n",
    "\n",
    "ts_reshaped = reshaped_data"
   ]
  },
  {
   "cell_type": "code",
   "execution_count": 12,
   "metadata": {},
   "outputs": [
    {
     "data": {
      "text/plain": [
       "(21225, 5, 200)"
      ]
     },
     "execution_count": 12,
     "metadata": {},
     "output_type": "execute_result"
    }
   ],
   "source": [
    "ts_reshaped.shape"
   ]
  },
  {
   "cell_type": "markdown",
   "metadata": {},
   "source": [
    "## Model"
   ]
  },
  {
   "cell_type": "code",
   "execution_count": 13,
   "metadata": {},
   "outputs": [
    {
     "name": "stderr",
     "output_type": "stream",
     "text": [
      "C:\\Users\\Emile\\AppData\\Local\\Packages\\PythonSoftwareFoundation.Python.3.11_qbz5n2kfra8p0\\LocalCache\\local-packages\\Python311\\site-packages\\torch\\nn\\modules\\transformer.py:379: UserWarning: enable_nested_tensor is True, but self.use_nested_tensor is False because encoder_layer.self_attn.batch_first was not True(use batch_first for better inference performance)\n",
      "  warnings.warn(\n",
      "C:\\Users\\Emile\\AppData\\Local\\Temp\\ipykernel_14448\\2533411285.py:4: FutureWarning: You are using `torch.load` with `weights_only=False` (the current default value), which uses the default pickle module implicitly. It is possible to construct malicious pickle data which will execute arbitrary code during unpickling (See https://github.com/pytorch/pytorch/blob/main/SECURITY.md#untrusted-models for more details). In a future release, the default value for `weights_only` will be flipped to `True`. This limits the functions that could be executed during unpickling. Arbitrary objects will no longer be allowed to be loaded via this mode unless they are explicitly allowlisted by the user via `torch.serialization.add_safe_globals`. We recommend you start setting `weights_only=True` for any use case where you don't have full control of the loaded file. Please open an issue on GitHub for any issues related to this experimental feature.\n",
      "  eeg2vec_model.load_state_dict(torch.load(model_path))\n"
     ]
    },
    {
     "data": {
      "text/plain": [
       "<All keys matched successfully>"
      ]
     },
     "execution_count": 13,
     "metadata": {},
     "output_type": "execute_result"
    }
   ],
   "source": [
    "# model_eeg2vec = EEG2Vec(8,2,5,2)\n",
    "model_path = \"eeg2vec/data/saved_models/eeg2vec_8_2_5_2_11dec_10000points.pth\"\n",
    "eeg2vec_model = EEG2Vec(8,2,5,2)\n",
    "eeg2vec_model.load_state_dict(torch.load(model_path))"
   ]
  },
  {
   "cell_type": "markdown",
   "metadata": {},
   "source": [
    "## Training"
   ]
  },
  {
   "cell_type": "code",
   "execution_count": 14,
   "metadata": {},
   "outputs": [],
   "source": [
    "X_train, X_test, y_train, y_test = train_test_split(ts_reshaped, ts_reshaped, test_size=0.2, random_state=42)"
   ]
  },
  {
   "cell_type": "code",
   "execution_count": 15,
   "metadata": {},
   "outputs": [
    {
     "data": {
      "text/plain": [
       "device(type='cuda')"
      ]
     },
     "execution_count": 15,
     "metadata": {},
     "output_type": "execute_result"
    }
   ],
   "source": [
    "# Use GPU if available\n",
    "device = torch.device(\"cuda\" if torch.cuda.is_available() else \"cpu\")\n",
    "device"
   ]
  },
  {
   "cell_type": "code",
   "execution_count": 16,
   "metadata": {},
   "outputs": [],
   "source": [
    "data_loader = get_dataloader(X_train, y_train, batch_size=32)"
   ]
  },
  {
   "cell_type": "code",
   "execution_count": 17,
   "metadata": {},
   "outputs": [
    {
     "name": "stdout",
     "output_type": "stream",
     "text": [
      "Epoch 1/100 completed.\n",
      "Epoch 2/100 completed.\n",
      "Epoch 3/100 completed.\n",
      "Epoch 4/100 completed.\n",
      "Epoch 5/100 completed.\n",
      "Epoch 6/100 completed.\n",
      "Epoch 7/100 completed.\n",
      "Epoch 8/100 completed.\n",
      "Epoch 9/100 completed.\n",
      "Epoch 10/100 completed.\n",
      "Epoch 11/100 completed.\n",
      "Epoch 12/100 completed.\n",
      "Epoch 13/100 completed.\n",
      "Epoch 14/100 completed.\n",
      "Epoch 15/100 completed.\n",
      "Epoch 16/100 completed.\n",
      "Epoch 17/100 completed.\n",
      "Epoch 18/100 completed.\n",
      "Epoch 19/100 completed.\n",
      "Epoch 20/100 completed.\n",
      "Epoch 21/100 completed.\n",
      "Epoch 22/100 completed.\n",
      "Epoch 23/100 completed.\n",
      "Epoch 24/100 completed.\n",
      "Epoch 25/100 completed.\n",
      "Epoch 26/100 completed.\n",
      "Epoch 27/100 completed.\n",
      "Epoch 28/100 completed.\n",
      "Epoch 29/100 completed.\n",
      "Epoch 30/100 completed.\n",
      "Epoch 31/100 completed.\n",
      "Epoch 32/100 completed.\n",
      "Epoch 33/100 completed.\n",
      "Epoch 34/100 completed.\n",
      "Epoch 35/100 completed.\n",
      "Epoch 36/100 completed.\n",
      "Epoch 37/100 completed.\n",
      "Epoch 38/100 completed.\n",
      "Epoch 39/100 completed.\n",
      "Epoch 40/100 completed.\n",
      "Epoch 41/100 completed.\n",
      "Epoch 42/100 completed.\n",
      "Epoch 43/100 completed.\n",
      "Epoch 44/100 completed.\n",
      "Epoch 45/100 completed.\n",
      "Epoch 46/100 completed.\n",
      "Epoch 47/100 completed.\n",
      "Epoch 48/100 completed.\n",
      "Epoch 49/100 completed.\n",
      "Epoch 50/100 completed.\n",
      "Epoch 51/100 completed.\n",
      "Epoch 52/100 completed.\n",
      "Epoch 53/100 completed.\n",
      "Epoch 54/100 completed.\n",
      "Epoch 55/100 completed.\n",
      "Epoch 56/100 completed.\n",
      "Epoch 57/100 completed.\n",
      "Epoch 58/100 completed.\n",
      "Epoch 59/100 completed.\n",
      "Epoch 60/100 completed.\n",
      "Epoch 61/100 completed.\n",
      "Epoch 62/100 completed.\n",
      "Epoch 63/100 completed.\n",
      "Epoch 64/100 completed.\n",
      "Epoch 65/100 completed.\n",
      "Epoch 66/100 completed.\n",
      "Epoch 67/100 completed.\n",
      "Epoch 68/100 completed.\n",
      "Epoch 69/100 completed.\n",
      "Epoch 70/100 completed.\n",
      "Epoch 71/100 completed.\n",
      "Epoch 72/100 completed.\n",
      "Epoch 73/100 completed.\n",
      "Epoch 74/100 completed.\n",
      "Epoch 75/100 completed.\n",
      "Epoch 76/100 completed.\n",
      "Epoch 77/100 completed.\n",
      "Epoch 78/100 completed.\n",
      "Epoch 79/100 completed.\n",
      "Epoch 80/100 completed.\n",
      "Epoch 81/100 completed.\n",
      "Epoch 82/100 completed.\n",
      "Epoch 83/100 completed.\n",
      "Epoch 84/100 completed.\n",
      "Epoch 85/100 completed.\n",
      "Epoch 86/100 completed.\n",
      "Epoch 87/100 completed.\n",
      "Epoch 88/100 completed.\n",
      "Epoch 89/100 completed.\n",
      "Epoch 90/100 completed.\n",
      "Epoch 91/100 completed.\n",
      "Epoch 92/100 completed.\n",
      "Epoch 93/100 completed.\n",
      "Epoch 94/100 completed.\n",
      "Epoch 95/100 completed.\n",
      "Epoch 96/100 completed.\n",
      "Epoch 97/100 completed.\n",
      "Epoch 98/100 completed.\n",
      "Epoch 99/100 completed.\n",
      "Epoch 100/100 completed.\n"
     ]
    }
   ],
   "source": [
    "eeg2vec_model = eeg2vec_model.to(device)\n",
    "train(eeg2vec_model, data_loader, 100, device)"
   ]
  },
  {
   "cell_type": "code",
   "execution_count": 20,
   "metadata": {},
   "outputs": [
    {
     "data": {
      "text/plain": [
       "EEG2Vec(\n",
       "  (cnn_encoder): CNNEncoder(\n",
       "    (conv_layers): Sequential(\n",
       "      (0): Conv1d(5, 8, kernel_size=(1,), stride=(1,))\n",
       "      (1): ReLU()\n",
       "      (2): MaxPool1d(kernel_size=5, stride=5, padding=0, dilation=1, ceil_mode=False)\n",
       "      (3): Conv1d(8, 8, kernel_size=(2,), stride=(1,))\n",
       "      (4): ReLU()\n",
       "    )\n",
       "  )\n",
       "  (transformer_encoder): TransformerEncoder(\n",
       "    (transformer_encoder): TransformerEncoder(\n",
       "      (layers): ModuleList(\n",
       "        (0-4): 5 x TransformerEncoderLayer(\n",
       "          (self_attn): MultiheadAttention(\n",
       "            (out_proj): NonDynamicallyQuantizableLinear(in_features=8, out_features=8, bias=True)\n",
       "          )\n",
       "          (linear1): Linear(in_features=8, out_features=2, bias=True)\n",
       "          (dropout): Dropout(p=0.1, inplace=False)\n",
       "          (linear2): Linear(in_features=2, out_features=8, bias=True)\n",
       "          (norm1): LayerNorm((8,), eps=1e-05, elementwise_affine=True)\n",
       "          (norm2): LayerNorm((8,), eps=1e-05, elementwise_affine=True)\n",
       "          (dropout1): Dropout(p=0.1, inplace=False)\n",
       "          (dropout2): Dropout(p=0.1, inplace=False)\n",
       "        )\n",
       "      )\n",
       "    )\n",
       "  )\n",
       ")"
      ]
     },
     "execution_count": 20,
     "metadata": {},
     "output_type": "execute_result"
    }
   ],
   "source": [
    "eeg2vec_model.eval()"
   ]
  },
  {
   "cell_type": "code",
   "execution_count": 21,
   "metadata": {},
   "outputs": [],
   "source": [
    "# Save the model\n",
    "torch.save(eeg2vec_model.state_dict(), 'eeg2vec/data/saved_models/eeg2vec_8_2_5_2_11dec_100000+pretrainedtotal.pth')"
   ]
  },
  {
   "cell_type": "code",
   "execution_count": null,
   "metadata": {},
   "outputs": [],
   "source": []
  }
 ],
 "metadata": {
  "kernelspec": {
   "display_name": "Python 3",
   "language": "python",
   "name": "python3"
  },
  "language_info": {
   "codemirror_mode": {
    "name": "ipython",
    "version": 3
   },
   "file_extension": ".py",
   "mimetype": "text/x-python",
   "name": "python",
   "nbconvert_exporter": "python",
   "pygments_lexer": "ipython3",
   "version": "3.11.9"
  }
 },
 "nbformat": 4,
 "nbformat_minor": 2
}
